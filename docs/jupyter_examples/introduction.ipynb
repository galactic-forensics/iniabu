{
 "cells": [
  {
   "cell_type": "markdown",
   "metadata": {},
   "source": [
    "# Introduction & look up information\n",
    "\n",
    "*December 22, 2020*\n",
    "\n",
    "This notebook gives some simple examples on how to start working with `iniabu`. By the end of this notebook you should know how to load `iniabu`, how to access and load elements and isotopes, and how to look up general information about them.\n",
    "\n",
    "First we need to load the module. We do this by using the default database using number abundances into `ini`. If `iniabu` is not installed in your python environment (e.g., if you just cloned the GitHub repository) you can make `iniabu` available by adding its home folder to the python path. Otherwise, comment out the first two line."
   ]
  },
  {
   "cell_type": "code",
   "execution_count": 1,
   "metadata": {},
   "outputs": [],
   "source": [
    "import sys\n",
    "sys.path.insert(0, '../../')  # add iniabu to python path from this repo\n",
    "\n",
    "%matplotlib inline\n",
    "import matplotlib.pyplot as plt\n",
    "\n",
    "from iniabu import ini  # load iniabu into ini"
   ]
  },
  {
   "cell_type": "markdown",
   "metadata": {},
   "source": [
    "## Set the database you want to use\n",
    "Let's first have a look at which database is loaded. This should be Lodders et al. (2009). "
   ]
  },
  {
   "cell_type": "code",
   "execution_count": 2,
   "metadata": {},
   "outputs": [
    {
     "data": {
      "text/plain": [
       "'lodders09'"
      ]
     },
     "execution_count": 2,
     "metadata": {},
     "output_type": "execute_result"
    }
   ],
   "source": [
    "ini.database"
   ]
  },
  {
   "cell_type": "markdown",
   "metadata": {},
   "source": [
    "Good, so that is all correct. We can switch over to another database and load that one, e.g., the Asplund et al. (2009) database. Loading a new database will print a message to state which database was just loaded and what units are currently being used."
   ]
  },
  {
   "cell_type": "code",
   "execution_count": 3,
   "metadata": {},
   "outputs": [
    {
     "name": "stdout",
     "output_type": "stream",
     "text": [
      "iniabu loaded database: 'asplund09', current units: 'num_lin'\n"
     ]
    }
   ],
   "source": [
    "ini.database = \"asplund09\""
   ]
  },
  {
   "cell_type": "markdown",
   "metadata": {},
   "source": [
    "## Query an element\n",
    "\n",
    "Let us query an element and look at its abundance. In the Asplund et al. (2009) database, which gives the abundances as present-day photospheric abundances, an element's abundance will be different compared to the database of Lodders et al. (2009), which gives the early Solar System abundances based on meteoritic measurements.\n",
    "\n",
    "### Solar abundances"
   ]
  },
  {
   "cell_type": "code",
   "execution_count": 4,
   "metadata": {},
   "outputs": [
    {
     "name": "stdout",
     "output_type": "stream",
     "text": [
      "Xenon abundance in asplund09 database: 5.370317963702532\n"
     ]
    }
   ],
   "source": [
    "xe_asplund = ini.ele[\"Xe\"]\n",
    "print(f\"Xenon abundance in {ini.database} database: {xe_asplund.abu_solar}\")"
   ]
  },
  {
   "cell_type": "markdown",
   "metadata": {},
   "source": [
    "**Important**: If you save an element into a variable, as done here setting the `xe_asplund` variable, it will be associated with the database loaded at that time!\n",
    "\n",
    "Let's switch back to Lodders et al. (2009) and see how much xenon is here."
   ]
  },
  {
   "cell_type": "code",
   "execution_count": 5,
   "metadata": {},
   "outputs": [
    {
     "name": "stdout",
     "output_type": "stream",
     "text": [
      "iniabu loaded database: 'lodders09', current units: 'num_lin'\n",
      "Xenon abundance in lodders09 database: 5.457\n"
     ]
    }
   ],
   "source": [
    "ini.database = \"lodders09\"\n",
    "print(f\"Xenon abundance in {ini.database} database: {ini.ele['Xe'].abu_solar}\")"
   ]
  },
  {
   "cell_type": "markdown",
   "metadata": {},
   "source": [
    "Looks like the photospheric measurement shows a slightly lower measurement of Xe than the early Solar System measurements. This is not too surprising, having selected an element that is difficult to measure.\n",
    "\n",
    "If you select an element for which the isotopic abundance is not in the selected database, `iniabu` will return a `numpy.nan`, i.e., not a number. For example, in Asplund et al. (2009), there is no abundance for uranium given."
   ]
  },
  {
   "cell_type": "code",
   "execution_count": 6,
   "metadata": {},
   "outputs": [
    {
     "name": "stdout",
     "output_type": "stream",
     "text": [
      "iniabu loaded database: 'asplund09', current units: 'num_lin'\n",
      "Uranium abundance in asplund09 database: nan\n",
      "iniabu loaded database: 'lodders09', current units: 'num_lin'\n",
      "Uranium abundance in lodders09 database: 0.015036748009799998\n"
     ]
    }
   ],
   "source": [
    "ini.database = \"asplund09\"\n",
    "print(f\"Uranium abundance in {ini.database} database: {ini.ele['U'].abu_solar}\")\n",
    "# set the database back to Lodders\n",
    "ini.database = \"lodders09\"\n",
    "print(f\"Uranium abundance in {ini.database} database: {ini.ele['U'].abu_solar}\")"
   ]
  },
  {
   "cell_type": "markdown",
   "metadata": {},
   "source": [
    "The reason `nan` is returned is that if you are querying many elements or isotopes at once and continue doing math with the abundances, `nan` will simply propagate. So most of your results might still be fine, while some were not able to succeed with a query, and thus resulted in `nan`."
   ]
  },
  {
   "cell_type": "markdown",
   "metadata": {},
   "source": [
    "### Some other information that can be queried for elements"
   ]
  },
  {
   "cell_type": "code",
   "execution_count": 7,
   "metadata": {},
   "outputs": [
    {
     "name": "stdout",
     "output_type": "stream",
     "text": [
      "Ne\n",
      "20.131281205895796\n"
     ]
    }
   ],
   "source": [
    "ele = ini.ele[\"Ne\"]\n",
    "\n",
    "# The name and mass of the loaded element\n",
    "print(ele.name)\n",
    "print(ele.mass)"
   ]
  },
  {
   "cell_type": "code",
   "execution_count": 8,
   "metadata": {},
   "outputs": [
    {
     "name": "stdout",
     "output_type": "stream",
     "text": [
      "[20 21 22]\n",
      "[3060000.    7330.  225000.]\n",
      "[0.929431 0.002228 0.068341]\n"
     ]
    }
   ],
   "source": [
    "# Isotopes, mass number, solar abundances, and relative abundances\n",
    "print(ele.iso_a)\n",
    "print(ele.iso_abu_solar)\n",
    "print(ele.iso_abu_rel)"
   ]
  },
  {
   "cell_type": "markdown",
   "metadata": {},
   "source": [
    "### Loading multiple elements at the same time"
   ]
  },
  {
   "cell_type": "code",
   "execution_count": 9,
   "metadata": {},
   "outputs": [
    {
     "data": {
      "text/plain": [
       "array([2.5900503e+10, 2.5110300e+09])"
      ]
     },
     "execution_count": 9,
     "metadata": {},
     "output_type": "execute_result"
    }
   ],
   "source": [
    "eles = ini.ele[\"H\", \"He\"]\n",
    "eles.abu_solar"
   ]
  },
  {
   "cell_type": "markdown",
   "metadata": {},
   "source": [
    "## Querying isotopes\n",
    "\n",
    "In the same way we can query elements, isotopes can be queried. The standard notation for an isotope name, e.g., <sup>20</sup>Ne is \"Ne-20\". To load one or multiple isotopes into the stack you can do the following:"
   ]
  },
  {
   "cell_type": "code",
   "execution_count": 10,
   "metadata": {},
   "outputs": [
    {
     "data": {
      "text/plain": [
       "3060000.0"
      ]
     },
     "execution_count": 10,
     "metadata": {},
     "output_type": "execute_result"
    }
   ],
   "source": [
    "iso = ini.iso[\"Ne-20\"]\n",
    "iso.abu_solar  # get solar abundance"
   ]
  },
  {
   "cell_type": "code",
   "execution_count": 11,
   "metadata": {},
   "outputs": [
    {
     "data": {
      "text/plain": [
       "array([3060000.,    7330.,  225000.])"
      ]
     },
     "execution_count": 11,
     "metadata": {},
     "output_type": "execute_result"
    }
   ],
   "source": [
    "isos = ini.iso[[\"Ne-20\", \"Ne-21\", \"Ne-22\"]]\n",
    "isos.abu_solar  # get solar abundance"
   ]
  },
  {
   "cell_type": "code",
   "execution_count": 12,
   "metadata": {},
   "outputs": [
    {
     "data": {
      "text/plain": [
       "array([0.929431, 0.002228, 0.068341])"
      ]
     },
     "execution_count": 12,
     "metadata": {},
     "output_type": "execute_result"
    }
   ],
   "source": [
    "isos.abu_rel  # get relative abundances"
   ]
  },
  {
   "cell_type": "code",
   "execution_count": 13,
   "metadata": {},
   "outputs": [
    {
     "data": {
      "text/plain": [
       "1.0"
      ]
     },
     "execution_count": 13,
     "metadata": {},
     "output_type": "execute_result"
    }
   ],
   "source": [
    "sum(isos.abu_rel)"
   ]
  },
  {
   "cell_type": "markdown",
   "metadata": {},
   "source": [
    "The sum of the relative abundances of course sums to unity.\n",
    "\n",
    "If you want to query all isotopes of a given element, e.g., of neon, you can also just give the isotope routine an element name. This will automatically select all available isotopes."
   ]
  },
  {
   "cell_type": "code",
   "execution_count": 14,
   "metadata": {},
   "outputs": [
    {
     "name": "stdout",
     "output_type": "stream",
     "text": [
      "['Ne-20', 'Ne-21', 'Ne-22']\n",
      "[0.929431 0.002228 0.068341]\n"
     ]
    }
   ],
   "source": [
    "isos = ini.iso[\"Ne\"]\n",
    "print(isos.name)\n",
    "print(isos.abu_rel)"
   ]
  },
  {
   "cell_type": "markdown",
   "metadata": {},
   "source": [
    "## Some usage cases\n",
    "\n",
    "\n",
    "### Plot the solar abundances of all elements\n",
    "\n",
    "To do this we use the fact that `iniabu` contains dictionaries for all the species, namely `ele_dict` and `iso_dict`. The keys of these dictionaries are the element and isotope names, respectively."
   ]
  },
  {
   "cell_type": "code",
   "execution_count": 15,
   "metadata": {},
   "outputs": [
    {
     "data": {
      "text/plain": [
       "Text(0, 0.5, 'Solar abundance')"
      ]
     },
     "execution_count": 15,
     "metadata": {},
     "output_type": "execute_result"
    },
    {
     "data": {
      "image/png": "[encoded data removed]",
      "text/plain": [
       "<Figure size 432x288 with 1 Axes>"
      ]
     },
     "metadata": {
      "needs_background": "light"
     },
     "output_type": "display_data"
    }
   ],
   "source": [
    "ele_names = ini.ele_dict.keys()  # all elements\n",
    "\n",
    "# make the figure and axis\n",
    "fig, ax = plt.subplots(1, 1)\n",
    "eles = ini.ele[list(ele_names)]  # needs to be passed as a list, not dictionary keys!\n",
    "ax.semilogy(eles.mass, eles.abu_solar, ':o', ms=4)\n",
    "ax.set_xlabel('Mass')\n",
    "ax.set_ylabel('Solar abundance')"
   ]
  },
  {
   "cell_type": "markdown",
   "metadata": {},
   "source": [
    "### Plotting the relative abundances of noble gases\n",
    "Let's say you'd like to make some bar plots with the abundances of noble gas isotopes as they were in the early solar system. We could accomplish that, using `matplotlib` to plot our results, as following:"
   ]
  },
  {
   "cell_type": "code",
   "execution_count": 16,
   "metadata": {},
   "outputs": [
    {
     "data": {
      "text/plain": [
       "Text(0, 0.5, 'Relative abundance (%)')"
      ]
     },
     "execution_count": 16,
     "metadata": {},
     "output_type": "execute_result"
    },
    {
     "data": {
      "image/png": "[encoded data removed]",
      "text/plain": [
       "<Figure size 864x144 with 5 Axes>"
      ]
     },
     "metadata": {
      "needs_background": "light"
     },
     "output_type": "display_data"
    }
   ],
   "source": [
    "eles = [\"He\", \"Ne\", \"Ar\", \"Kr\", \"Xe\"]  # all elements we want to plot information for\n",
    "\n",
    "# make the figure and axes\n",
    "fig, ax = plt.subplots(1, len(eles), sharey=True, figsize=(12, 2))\n",
    "\n",
    "# loop to make all the subplots\n",
    "for it, ele in enumerate(eles):\n",
    "    iso = ini.iso[ele]\n",
    "    ax[it].bar(iso.mass, iso.abu_rel*100, width=0.5)\n",
    "    ax[it].set_xlabel(\"Mass\")\n",
    "    ax[it].set_title(ele)\n",
    "\n",
    "# y-label only for first    \n",
    "ax[0].set_ylabel(\"Relative abundance (%)\")"
   ]
  },
  {
   "cell_type": "markdown",
   "metadata": {},
   "source": [
    "## Summary\n",
    "\n",
    "The `iniabu` python package lets you interact with initial solar abundances. You can query elements and isotopes for various properties. Return values are generally given - if more than one - directly as `numpy` arrays that can be used further for math directly. Therefore, `numpy` is the only dependency that this package has.\n",
    "\n",
    "More usage cases are discussed in with jupyter notebook examples. In addition you can have a look at the package documentation [here](https://iniabu.readthedocs.io) or by looking at the docstring of any function.\n",
    "\n",
    "If you encounter issues, please post them to the [`iniabu` GitHub page](https://github.com/galactic-forensics/iniabu). There you can also find a discussion forum."
   ]
  },
  {
   "cell_type": "code",
   "execution_count": null,
   "metadata": {},
   "outputs": [],
   "source": []
  }
 ],
 "metadata": {
  "kernelspec": {
   "display_name": "Python 3",
   "language": "python",
   "name": "python3"
  },
  "language_info": {
   "codemirror_mode": {
    "name": "ipython",
    "version": 3
   },
   "file_extension": ".py",
   "mimetype": "text/x-python",
   "name": "python",
   "nbconvert_exporter": "python",
   "pygments_lexer": "ipython3",
   "version": "3.9.0"
  }
 },
 "nbformat": 4,
 "nbformat_minor": 4
}
